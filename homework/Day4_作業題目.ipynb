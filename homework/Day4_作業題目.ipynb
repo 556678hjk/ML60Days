{
 "cells": [
  {
   "cell_type": "markdown",
   "metadata": {
    "id": "XYM0mQCi2WTY"
   },
   "source": [
    "作業目標<br>\n",
    "熟悉邏輯運算<br>\n",
    "作業重點<br>\n",
    "五大類邏輯函式與其對應的函式操作"
   ]
  },
  {
   "cell_type": "markdown",
   "metadata": {
    "id": "-MPLt0EF2Zto"
   },
   "source": [
    "題目:<br>\n",
    "english_score = np.array([55,89,76,65,48,70])<br>\n",
    "math_score = np.array([60,85,60,68,55,60])<br>\n",
    "chinese_score = np.array([65,90,82,72,66,77])<br>\n",
    "上3列共六位同學的英文、數學、國文成績，第一個元素代表第一位同學，舉例第一位同學英文55分、數學60分、國文65分，運用上列數據回答下列問題。<br>\n",
    "1. 有多少學生英文成績比數學成績高?\n",
    "2. 是否全班同學最高分都是國文?\n",
    "\n",
    "\n"
   ]
  },
  {
   "cell_type": "code",
   "execution_count": 1,
   "metadata": {
    "id": "owy7B7Us2ZEM"
   },
   "outputs": [],
   "source": [
    "import numpy as np"
   ]
  },
  {
   "cell_type": "code",
   "execution_count": 14,
   "metadata": {
    "executionInfo": {
     "elapsed": 818,
     "status": "ok",
     "timestamp": 1609854133025,
     "user": {
      "displayName": "献竤黃",
      "photoUrl": "",
      "userId": "07529243043474362942"
     },
     "user_tz": -480
    },
    "id": "i0RGMNH72xkh"
   },
   "outputs": [
    {
     "name": "stdout",
     "output_type": "stream",
     "text": [
      "3\n",
      "3\n"
     ]
    }
   ],
   "source": [
    "#1.有多少學生英文成績比數學成績高?\n",
    "english_score = np.array([55,89,76,65,48,70])\n",
    "math_score = np.array([60,85,60,68,55,60])\n",
    "\n",
    "#解一\n",
    "person=0\n",
    "for i in np.arange(6):\n",
    "    bool=np.greater(english_score[i],math_score[i])\n",
    "    if (bool == True):\n",
    "        person=person+1\n",
    "print(person)\n",
    "\n",
    "#解二(考慮element-wise規則)\n",
    "person=0\n",
    "bool=np.greater(english_score,math_score)\n",
    "for i in bool:\n",
    "    if(i==True):\n",
    "        person=person+1\n",
    "print(person)        "
   ]
  },
  {
   "cell_type": "code",
   "execution_count": 17,
   "metadata": {
    "executionInfo": {
     "elapsed": 1269,
     "status": "ok",
     "timestamp": 1609854133487,
     "user": {
      "displayName": "献竤黃",
      "photoUrl": "",
      "userId": "07529243043474362942"
     },
     "user_tz": -480
    },
    "id": "F4Hzk1HM8pBZ"
   },
   "outputs": [
    {
     "name": "stdout",
     "output_type": "stream",
     "text": [
      "Ture\n",
      "True\n"
     ]
    }
   ],
   "source": [
    "#2.是否全班同學最高分都是國文?\n",
    "chinese_score = np.array([65,90,82,72,66,77])\n",
    "\n",
    "#解一\n",
    "people=0\n",
    "for i in np.arange(6):\n",
    "    bool1=np.greater(chinese_score[i],math_score[i])\n",
    "    bool2=np.greater(chinese_score[i],english_score[i])\n",
    "    if (bool1 == True & bool2 == True):\n",
    "        people=people+1\n",
    "    if (people==6):\n",
    "        print(\"Ture\")\n",
    "\n",
    "#解二(np.logical_and與np.array_equiv)\n",
    "bool3=np.logical_and(chinese_score>english_score,chinese_score>math_score)\n",
    "print(np.array_equiv(bool3,True))"
   ]
  }
 ],
 "metadata": {
  "colab": {
   "authorship_tag": "ABX9TyMvnUzt7pnXvEj6Wk0LCRLY",
   "collapsed_sections": [],
   "name": "作業Hong題目.ipynb",
   "provenance": []
  },
  "kernelspec": {
   "display_name": "Python 3",
   "language": "python",
   "name": "python3"
  },
  "language_info": {
   "codemirror_mode": {
    "name": "ipython",
    "version": 3
   },
   "file_extension": ".py",
   "mimetype": "text/x-python",
   "name": "python",
   "nbconvert_exporter": "python",
   "pygments_lexer": "ipython3",
   "version": "3.8.5"
  }
 },
 "nbformat": 4,
 "nbformat_minor": 1
}
